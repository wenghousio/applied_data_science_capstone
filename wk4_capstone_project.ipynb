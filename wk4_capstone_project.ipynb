{
 "nbformat": 4,
 "nbformat_minor": 2,
 "metadata": {
  "language_info": {
   "name": "python",
   "codemirror_mode": {
    "name": "ipython",
    "version": 3
   },
   "version": "3.8.1-final"
  },
  "orig_nbformat": 2,
  "file_extension": ".py",
  "mimetype": "text/x-python",
  "name": "python",
  "npconvert_exporter": "python",
  "pygments_lexer": "ipython3",
  "version": 3,
  "kernelspec": {
   "name": "python38164bit5991df0057df44c4badd231d816176c4",
   "display_name": "Python 3.8.1 64-bit"
  }
 },
 "cells": [
  {
   "cell_type": "markdown",
   "metadata": {},
   "source": [
    " # The Battle of Neighborhoods | Introduction | Week 4"
   ]
  },
  {
   "cell_type": "markdown",
   "metadata": {},
   "source": [
    "** A description of the problem and a discussion of the background **"
   ]
  },
  {
   "cell_type": "markdown",
   "metadata": {},
   "source": [
    "The aim of this project is to investigate the most popular venue category in New York City, which is ideal for individuals who want to explore the most popular shops or other facilities in this area. By using data science methods and machine learning methods such as K-means clustering, this project aims to provide solutions to answer the business problem: In New York City, if an individual wants to find a new place to live, where should they consider?"
   ]
  },
  {
   "cell_type": "markdown",
   "metadata": {},
   "source": [
    "** A description of the data and how it will be used to solve the problem **"
   ]
  },
  {
   "cell_type": "markdown",
   "metadata": {},
   "source": [
    "To solve the problem, I will need the following data:\n",
    "\n",
    "1. List of neighborhoods in New York City, United States\n",
    "2. Latitude and Longitude of these neighborhoods\n",
    "3. Venue data related to the neighborhoods (facilities nearby)"
   ]
  },
  {
   "cell_type": "markdown",
   "metadata": {},
   "source": [
    "To extract the data, the following libraries and methods will be used:\n",
    "\n",
    "- scrapping of New York City neighborhoods via Wikipedia\n",
    "- getting latitude and longitude data of these neighborhoods via Geocoder package\n",
    "- using Foursquare API to get venue data related to these neighborhoods\n",
    "- using pandas to perform data manipulation (creating dataframe, input/output of data)\n",
    "- using sklearn to import machine learning algorithms (K-Means Clustering) to cluster these datasets\n",
    "- using matplotlib to perform data visualizations"
   ]
  },
  {
   "cell_type": "code",
   "execution_count": null,
   "metadata": {},
   "outputs": [],
   "source": []
  }
 ]
}