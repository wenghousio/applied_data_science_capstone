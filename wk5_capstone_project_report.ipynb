{
 "nbformat": 4,
 "nbformat_minor": 2,
 "metadata": {
  "language_info": {
   "name": "python",
   "codemirror_mode": {
    "name": "ipython",
    "version": 3
   },
   "version": "3.8.1-final"
  },
  "orig_nbformat": 2,
  "file_extension": ".py",
  "mimetype": "text/x-python",
  "name": "python",
  "npconvert_exporter": "python",
  "pygments_lexer": "ipython3",
  "version": 3,
  "kernelspec": {
   "name": "python38164bit5991df0057df44c4badd231d816176c4",
   "display_name": "Python 3.8.1 64-bit"
  }
 },
 "cells": [
  {
   "cell_type": "markdown",
   "metadata": {},
   "source": [
    "# The Battle of Neighborhoods | Report | Week 5"
   ]
  },
  {
   "cell_type": "markdown",
   "metadata": {},
   "source": [
    "** 1. Introduction **"
   ]
  },
  {
   "cell_type": "markdown",
   "metadata": {},
   "source": [
    "The purpose of this project is to investigate the most popular venue category in New York City, which is ideal for individuals who want to explore the most popular areas in the city. By using data science methods and machine learning algorithms, this project aims to provide solutions for this problem. It will definitely help poeple to get awareness of the area and neighborhoods before moving to a new city to start their new life."
   ]
  },
  {
   "cell_type": "markdown",
   "metadata": {},
   "source": [
    "** 2. Data Extraction **"
   ]
  },
  {
   "cell_type": "markdown",
   "metadata": {},
   "source": [
    "To extract the data, the following libraries and methods will be used:\n",
    "\n",
    "- scrapping of New York City neighborhoods via Wikipedia\n",
    "- getting latitude and longitude data of these neighborhoods via Geocoder package\n",
    "- using Foursquare API to get venue data related to these neighborhoods\n",
    "- using pandas to perform data manipulation (creating dataframe, input/output of data)\n",
    "- using sklearn to import machine learning algorithms (K-Means Clustering) to cluster these datasets\n",
    "- using matplotlib to perform data visualizations"
   ]
  },
  {
   "cell_type": "markdown",
   "metadata": {},
   "source": [
    "** 3. Methodology **"
   ]
  },
  {
   "cell_type": "markdown",
   "metadata": {},
   "source": [
    "To compare the similarities of two cities, we decided to extract the data, segment them into different groups by using K-means clustering, which is a popular machine learning algirthm (unsupervised learning) and provided by the machine learning library called scikit learn."
   ]
  },
  {
   "cell_type": "markdown",
   "metadata": {},
   "source": [
    "** 4. Discussion **"
   ]
  },
  {
   "cell_type": "markdown",
   "metadata": {},
   "source": [
    "The major purpose of this project is to suggest a neighborhood in a new city for the person who are shifting from another country or continent and they do not have clue about the new place and this project aims to help those individuals to sort out the problem and allow them to explore more about the new city they will be living."
   ]
  },
  {
   "cell_type": "markdown",
   "metadata": {},
   "source": []
  }
 ]
}