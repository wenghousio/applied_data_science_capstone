{
 "nbformat": 4,
 "nbformat_minor": 2,
 "metadata": {
  "language_info": {
   "name": "python",
   "codemirror_mode": {
    "name": "ipython",
    "version": 3
   },
   "version": "3.8.1-final"
  },
  "orig_nbformat": 2,
  "file_extension": ".py",
  "mimetype": "text/x-python",
  "name": "python",
  "npconvert_exporter": "python",
  "pygments_lexer": "ipython3",
  "version": 3,
  "kernelspec": {
   "name": "python3",
   "display_name": "Python 3"
  }
 },
 "cells": [
  {
   "cell_type": "markdown",
   "metadata": {},
   "source": [
    "# Segmentating and Clustering Neighborhoods in Toronto (Part 1)"
   ]
  },
  {
   "cell_type": "markdown",
   "metadata": {},
   "source": [
    "** 1st thing to do is to import all necessary libraries **"
   ]
  },
  {
   "cell_type": "code",
   "execution_count": 37,
   "metadata": {},
   "outputs": [
    {
     "name": "stdout",
     "output_type": "stream",
     "text": "Imported libraries\n"
    }
   ],
   "source": [
    "import numpy as np\n",
    "import pandas as pd\n",
    "import json\n",
    "import matplotlib.cm as cm\n",
    "import matplotlib.colors as colors\n",
    "import folium\n",
    "import requests\n",
    "from sklearn.cluster import KMeans\n",
    "from geopy.geocoders import Nominatim\n",
    "from pandas.io.json import json_normalize\n",
    "from bs4 import BeautifulSoup\n",
    "print(\"Imported libraries\")"
   ]
  },
  {
   "cell_type": "markdown",
   "metadata": {},
   "source": [
    "** 2nd: scrap data from Wikipedia into a dataframe **"
   ]
  },
  {
   "cell_type": "code",
   "execution_count": 40,
   "metadata": {},
   "outputs": [],
   "source": [
    "data = requests.get('https://en.wikipedia.org/wiki/List_of_postal_codes_of_Canada:_M').text\n",
    "\n",
    "soup = BeautifulSoup(data, 'html.parser')\n"
   ]
  },
  {
   "cell_type": "code",
   "execution_count": 47,
   "metadata": {},
   "outputs": [],
   "source": [
    "column_names = ['Postalcode','Borough','Neighborhood']\n",
    "\n",
    "toronto = pd.DataFrame(columns = column_names)\n",
    "\n",
    "content = soup.find('div',class_ = 'mw-parser-output')\n",
    "\n",
    "table = content.table.tbody\n",
    "\n",
    "postcode = 0\n",
    "borough = 0\n",
    "neighborhood = 0\n",
    "\n",
    "for tr in table.find_all('tr'):\n",
    "    i = 0\n",
    "    for td in tr.find_all('td'):\n",
    "        if i == 0:\n",
    "            postcode = td.text\n",
    "            i += 1\n",
    "        elif i == 1:\n",
    "            borough = td.text\n",
    "            i += 1\n",
    "        elif i == 2:\n",
    "            neighborhood = td.text.strip('\\n').replace(']','')\n",
    "\n",
    "    toronto = toronto.append({'Postalcode':postcode, 'Borough':borough, 'Neighborhood':neighborhood},ignore_index = True)\n",
    "\n"
   ]
  },
  {
   "cell_type": "code",
   "execution_count": 51,
   "metadata": {},
   "outputs": [],
   "source": [
    "toronto = toronto[toronto.Borough != 'Not assigned']\n",
    "toronto = toronto[toronto.Borough != 0]\n",
    "\n",
    "toronto.reset_index(drop = True, inplace = True)\n",
    "\n",
    "\n",
    "for i in range(0,toronto.shape[0]):\n",
    "    if toronto.iloc[i][2] == 'Not assigned':\n",
    "        toronto.iloc[i][2] = toronto.iloc[i][1]\n",
    "        i += 1"
   ]
  },
  {
   "cell_type": "code",
   "execution_count": 53,
   "metadata": {},
   "outputs": [],
   "source": [
    "df = toronto.groupby(['Postalcode','Borough'])['Neighborhood'].apply(','.join).reset_index()"
   ]
  },
  {
   "cell_type": "code",
   "execution_count": 54,
   "metadata": {},
   "outputs": [
    {
     "data": {
      "text/html": "<div>\n<style scoped>\n    .dataframe tbody tr th:only-of-type {\n        vertical-align: middle;\n    }\n\n    .dataframe tbody tr th {\n        vertical-align: top;\n    }\n\n    .dataframe thead th {\n        text-align: right;\n    }\n</style>\n<table border=\"1\" class=\"dataframe\">\n  <thead>\n    <tr style=\"text-align: right;\">\n      <th></th>\n      <th>Postalcode</th>\n      <th>Borough</th>\n      <th>Neighborhood</th>\n    </tr>\n  </thead>\n  <tbody>\n    <tr>\n      <th>0</th>\n      <td>M1A\\n</td>\n      <td>Not assigned\\n</td>\n      <td>Not assigned\\n</td>\n    </tr>\n    <tr>\n      <th>1</th>\n      <td>M1B\\n</td>\n      <td>Scarborough\\n</td>\n      <td>Malvern, Rouge</td>\n    </tr>\n    <tr>\n      <th>2</th>\n      <td>M1C\\n</td>\n      <td>Scarborough\\n</td>\n      <td>Rouge Hill, Port Union, Highland Creek</td>\n    </tr>\n    <tr>\n      <th>3</th>\n      <td>M1E\\n</td>\n      <td>Scarborough\\n</td>\n      <td>Guildwood, Morningside, West Hill</td>\n    </tr>\n    <tr>\n      <th>4</th>\n      <td>M1G\\n</td>\n      <td>Scarborough\\n</td>\n      <td>Woburn</td>\n    </tr>\n    <tr>\n      <th>...</th>\n      <td>...</td>\n      <td>...</td>\n      <td>...</td>\n    </tr>\n    <tr>\n      <th>175</th>\n      <td>M9V\\n</td>\n      <td>Etobicoke\\n</td>\n      <td>South Steeles, Silverstone, Humbergate, Jamest...</td>\n    </tr>\n    <tr>\n      <th>176</th>\n      <td>M9W\\n</td>\n      <td>Etobicoke\\n</td>\n      <td>Northwest, West Humber - Clairville</td>\n    </tr>\n    <tr>\n      <th>177</th>\n      <td>M9X\\n</td>\n      <td>Not assigned\\n</td>\n      <td>Not assigned\\n</td>\n    </tr>\n    <tr>\n      <th>178</th>\n      <td>M9Y\\n</td>\n      <td>Not assigned\\n</td>\n      <td>Not assigned\\n</td>\n    </tr>\n    <tr>\n      <th>179</th>\n      <td>M9Z\\n</td>\n      <td>Not assigned\\n</td>\n      <td>Not assigned\\n</td>\n    </tr>\n  </tbody>\n</table>\n<p>180 rows × 3 columns</p>\n</div>",
      "text/plain": "    Postalcode         Borough  \\\n0        M1A\\n  Not assigned\\n   \n1        M1B\\n   Scarborough\\n   \n2        M1C\\n   Scarborough\\n   \n3        M1E\\n   Scarborough\\n   \n4        M1G\\n   Scarborough\\n   \n..         ...             ...   \n175      M9V\\n     Etobicoke\\n   \n176      M9W\\n     Etobicoke\\n   \n177      M9X\\n  Not assigned\\n   \n178      M9Y\\n  Not assigned\\n   \n179      M9Z\\n  Not assigned\\n   \n\n                                          Neighborhood  \n0                                       Not assigned\\n  \n1                                       Malvern, Rouge  \n2               Rouge Hill, Port Union, Highland Creek  \n3                    Guildwood, Morningside, West Hill  \n4                                               Woburn  \n..                                                 ...  \n175  South Steeles, Silverstone, Humbergate, Jamest...  \n176                Northwest, West Humber - Clairville  \n177                                     Not assigned\\n  \n178                                     Not assigned\\n  \n179                                     Not assigned\\n  \n\n[180 rows x 3 columns]"
     },
     "execution_count": 54,
     "metadata": {},
     "output_type": "execute_result"
    }
   ],
   "source": [
    "df"
   ]
  },
  {
   "cell_type": "code",
   "execution_count": 55,
   "metadata": {},
   "outputs": [
    {
     "data": {
      "text/plain": "(180, 3)"
     },
     "execution_count": 55,
     "metadata": {},
     "output_type": "execute_result"
    }
   ],
   "source": [
    "df.shape"
   ]
  },
  {
   "cell_type": "code",
   "execution_count": null,
   "metadata": {},
   "outputs": [],
   "source": []
  }
 ]
}